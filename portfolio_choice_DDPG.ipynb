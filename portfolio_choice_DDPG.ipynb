{
 "cells": [
  {
   "cell_type": "code",
   "execution_count": 9,
   "metadata": {},
   "outputs": [],
   "source": [
    "from stable_baselines3 import DDPG\n",
    "import gym\n",
    "from gym import spaces\n",
    "import pandas as pd\n",
    "import numpy as np"
   ]
  },
  {
   "cell_type": "code",
   "execution_count": 42,
   "metadata": {},
   "outputs": [],
   "source": [
    "# Custom environment\n",
    "class PortfolioChoice(gym.Env):\n",
    "\n",
    "  def __init__(self, T):\n",
    "    super(PortfolioChoice, self).__init__()\n",
    "    # Define action and observation space\n",
    "    # Actions are (risk_alloc, consumption)\n",
    "    self.action_space = spaces.Box(low=np.array([-1.0, 0]), high=np.array([2.0, 1.0]), dtype=np.float64)\n",
    "    # Observations are (wealth, time)\n",
    "    self.observation_space = spaces.Box(low=np.array([0.0, 0.0]), high=np.array([np.inf, 1.0]), dtype=np.float64)\n",
    "\n",
    "    self.curr_wealth = 1.0\n",
    "    self.curr_time = 0\n",
    "    self.horizon = 10\n",
    "    self.desired_bequest = 0\n",
    "    self.risk_aversion = 2\n",
    "\n",
    "  def update_wealth(self, action, time_step):\n",
    "\n",
    "    # scaling returns based on time_step\n",
    "    exp_return = 1-(1-0.08)**(time_step)\n",
    "    rf_rate = 1-(1-0.05)**(time_step)\n",
    "    sd_return = 0.15/np.sqrt(1/time_step)\n",
    "    risk_alloc = action[0]\n",
    "    consumption = action[1]\n",
    "    curr_wealth = self.curr_wealth\n",
    "    self.curr_wealth = (exp_return + risk_alloc*(exp_return - rf_rate))*curr_wealth - consumption + curr_wealth*risk_alloc*sd_return*np.random.normal()\n",
    "    return self.curr_wealth\n",
    "\n",
    "  def utility(self, consumption):\n",
    "    gamma = self.risk_aversion\n",
    "    utils = consumption**(1-gamma)\n",
    "    return utils\n",
    "\n",
    "  # every round has at least 10 steps with an average of 20, advance time by random draw from (0,1)\n",
    "  def step(self, action):\n",
    "    time_step = np.random.random()\n",
    "    reward = 0\n",
    "    horizon = self.horizon\n",
    "    curr_time = self.curr_time\n",
    "\n",
    "    # check if end of simulation has been reached\n",
    "    if curr_time + time_step > horizon:\n",
    "      time_step = horizon - curr_time\n",
    "      done = True\n",
    "    else:\n",
    "      done = False\n",
    "\n",
    "    self.curr_time += curr_time + time_step\n",
    "    self.update_wealth(action, time_step)\n",
    "\n",
    "    consumption = action[1]\n",
    "    reward = self.utility(consumption)\n",
    "\n",
    "    # floor wealth at 0, trigger an exit\n",
    "    if self.curr_wealth < 0:\n",
    "      self.curr_wealth = 0\n",
    "      done = True\n",
    "\n",
    "    obs = np.array([self.curr_wealth, self.curr_time])\n",
    "    info = {}\n",
    "\n",
    "    return obs, reward, done, info\n",
    "\n",
    "  def reset(self):\n",
    "    self.curr_wealth = 1.0\n",
    "    self.curr_time = 0\n",
    "    return np.array([1.0, 0.0])\n"
   ]
  },
  {
   "cell_type": "code",
   "execution_count": 43,
   "metadata": {},
   "outputs": [
    {
     "name": "stderr",
     "output_type": "stream",
     "text": [
      "c:\\Users\\paulw\\Anaconda3\\envs\\openai\\lib\\site-packages\\stable_baselines3\\common\\env_checker.py:286: UserWarning: We recommend you to use a symmetric and normalized Box action space (range=[-1, 1]) cf https://stable-baselines3.readthedocs.io/en/master/guide/rl_tips.html\n",
      "  warnings.warn(\n",
      "c:\\Users\\paulw\\Anaconda3\\envs\\openai\\lib\\site-packages\\stable_baselines3\\common\\env_checker.py:297: UserWarning: Your action space has dtype float64, we recommend using np.float32 to avoid cast errors.\n",
      "  warnings.warn(\n"
     ]
    }
   ],
   "source": [
    "from stable_baselines3.common.env_checker import check_env\n",
    "env = PortfolioChoice(10)\n",
    "check_env(env)\n"
   ]
  }
 ],
 "metadata": {
  "kernelspec": {
   "display_name": "openai",
   "language": "python",
   "name": "python3"
  },
  "language_info": {
   "codemirror_mode": {
    "name": "ipython",
    "version": 3
   },
   "file_extension": ".py",
   "mimetype": "text/x-python",
   "name": "python",
   "nbconvert_exporter": "python",
   "pygments_lexer": "ipython3",
   "version": "3.8.8"
  },
  "orig_nbformat": 4,
  "vscode": {
   "interpreter": {
    "hash": "ff750654347ff6df96a8cb88d52c2688ed270bc666b10ebeaba8ffc7fdff7c79"
   }
  }
 },
 "nbformat": 4,
 "nbformat_minor": 2
}
