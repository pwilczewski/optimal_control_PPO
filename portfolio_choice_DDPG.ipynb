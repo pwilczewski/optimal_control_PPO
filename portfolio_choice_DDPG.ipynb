{
 "cells": [
  {
   "cell_type": "code",
   "execution_count": 1,
   "metadata": {},
   "outputs": [
    {
     "name": "stdout",
     "output_type": "stream",
     "text": [
      "1.6.2\n"
     ]
    }
   ],
   "source": [
    "from stable_baselines3 import PPO\n",
    "import pandas as pd\n",
    "import numpy as np"
   ]
  },
  {
   "cell_type": "code",
   "execution_count": null,
   "metadata": {},
   "outputs": [],
   "source": [
    "import gym\n",
    "from gym import spaces\n",
    "\n",
    "class CustomEnv(gym.Env):\n",
    "  \"\"\"Custom Environment that follows gym interface\"\"\"\n",
    "  metadata = {'render.modes': ['human']}\n",
    "\n",
    "  def __init__(self, arg1, arg2, ...):\n",
    "    super(CustomEnv, self).__init__()\n",
    "    # Define action and observation space\n",
    "    # They must be gym.spaces objects\n",
    "    # Example when using discrete actions:\n",
    "    self.action_space = spaces.Box(low=np.array([-1.0, -2.0]), high=np.array([2.0, 4.0]), dtype=np.float32)\n",
    "    # Example for using image as input:\n",
    "    self.observation_space = spaces.Box(low=0, high=255,\n",
    "                                        shape=(HEIGHT, WIDTH, N_CHANNELS), dtype=np.uint8)\n",
    "\n",
    "  def step(self, action):\n",
    "    ...\n",
    "    return observation, reward, done, info\n",
    "  def reset(self):\n",
    "    ...\n",
    "    return observation  # reward, done, info can't be included\n",
    "  def render(self, mode='human'):\n",
    "    ...\n",
    "  def close (self):\n",
    "    ..."
   ]
  },
  {
   "cell_type": "code",
   "execution_count": null,
   "metadata": {},
   "outputs": [],
   "source": [
    "def evolve_wealth(r, mu, sigma, w0, eps, gamma):\n",
    "\n",
    "    return utility_path\n",
    "\n",
    "model = PPO(\"MlpPolicy\", env, verbose=1)\n",
    "model.learn(total_timesteps=25000)\n",
    "model.save(\"ppo_cartpole\")\n",
    "\n",
    "del model # remove to demonstrate saving and loading\n",
    "\n",
    "model = PPO.load(\"ppo_cartpole\")\n",
    "\n",
    "obs = env.reset()\n",
    "while True:\n",
    "    action, _states = model.predict(obs)\n",
    "    obs, rewards, dones, info = env.step(action)\n",
    "    env.render()\n",
    "\n",
    "exp_return = 0.08\n",
    "rf_rate = 0.05\n",
    "sd_return = 0.15\n",
    "init_wealth = 1\n",
    "desired_bequest = 0\n",
    "risk_aversion = 2\n",
    "T = 10"
   ]
  }
 ],
 "metadata": {
  "kernelspec": {
   "display_name": "openai",
   "language": "python",
   "name": "python3"
  },
  "language_info": {
   "codemirror_mode": {
    "name": "ipython",
    "version": 3
   },
   "file_extension": ".py",
   "mimetype": "text/x-python",
   "name": "python",
   "nbconvert_exporter": "python",
   "pygments_lexer": "ipython3",
   "version": "3.8.8"
  },
  "orig_nbformat": 4,
  "vscode": {
   "interpreter": {
    "hash": "ff750654347ff6df96a8cb88d52c2688ed270bc666b10ebeaba8ffc7fdff7c79"
   }
  }
 },
 "nbformat": 4,
 "nbformat_minor": 2
}
